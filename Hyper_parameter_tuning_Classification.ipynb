{
  "nbformat": 4,
  "nbformat_minor": 0,
  "metadata": {
    "colab": {
      "name": "Hyper_parameter_tuning_Classification.ipynb",
      "provenance": [],
      "collapsed_sections": []
    },
    "kernelspec": {
      "name": "python3",
      "display_name": "Python 3"
    }
  },
  "cells": [
    {
      "cell_type": "markdown",
      "metadata": {
        "id": "P5wKwqYvMu-J"
      },
      "source": [
        "# Hyper-parameter Tunning of Machine Learning (ML) Models"
      ]
    },
    {
      "cell_type": "markdown",
      "metadata": {
        "id": "eSV9S3b9M0Ip"
      },
      "source": [
        "### Code for Classification Problems"
      ]
    },
    {
      "cell_type": "markdown",
      "metadata": {
        "id": "IVyy7vR3M0bB"
      },
      "source": [
        "#### `Dataset Used:`\n",
        "MNIST dataset"
      ]
    },
    {
      "cell_type": "markdown",
      "metadata": {
        "id": "VKYGgTJYM0rJ"
      },
      "source": [
        "#### `Machine Learning Algorithm Used:`\n",
        "* Random Forest (RF) \n",
        "* Support Vector Machine (SVM) \n",
        "* K-Nearest Neighbor (KNN) \n",
        "* Artificial Neural Network (ANN)"
      ]
    },
    {
      "cell_type": "markdown",
      "metadata": {
        "id": "twHDqeEYNrPw"
      },
      "source": [
        "#### `Hyper-parameter Tuning Algorithms Used:`\n",
        "* Grid Search \n",
        "* Random Search\n",
        "* Bayesian Optimization with Gaussian Processes (BO-GP)\n",
        "* Bayesian Optimization with Tree-structured Parzen Estimator (BO-TPE)"
      ]
    },
    {
      "cell_type": "markdown",
      "metadata": {
        "id": "fFKxlwpPNyIu"
      },
      "source": [
        "---"
      ]
    },
    {
      "cell_type": "code",
      "metadata": {
        "id": "dQykifugN0Na"
      },
      "source": [
        "# Importing required libraries\n",
        "import numpy as np\n",
        "import pandas as pd\n",
        "import seaborn as sns\n",
        "import matplotlib.pyplot as plt\n",
        "%matplotlib inline\n",
        "import scipy.stats as stats\n",
        "from sklearn import datasets\n",
        "from sklearn.model_selection import cross_val_score\n",
        "from sklearn.ensemble import RandomForestClassifier\n",
        "from sklearn.metrics import classification_report,confusion_matrix,accuracy_score\n",
        "from sklearn.neighbors import KNeighborsClassifier\n",
        "from sklearn.svm import SVC"
      ],
      "execution_count": 1,
      "outputs": []
    },
    {
      "cell_type": "markdown",
      "metadata": {
        "id": "jEC8PpyWOh0n"
      },
      "source": [
        "#### Loading MNIST Dataset\n",
        "The Modified National Institute of Standards and Technology (MNIST) database is a large database of handwritten digits that is commonly used by the people who want to try learning techniques and pattern recognition methods on real-world data while spending minimal efforts on preprocessing and formatting. It has a training set of 60,000 examples, and a test set of 10,000 examples.It is a subset of a larger set available from NIST. The digits have been size-normalized and centered in a fixed-size image.\n",
        "\n",
        "It has 1797 record and 64 columns.\n",
        "For more details about the dataset click here: [Details-1](http://yann.lecun.com/exdb/mnist/), [Details-2](https://scikit-learn.org/stable/modules/generated/sklearn.datasets.load_digits.html#sklearn.datasets.load_digits/)"
      ]
    },
    {
      "cell_type": "code",
      "metadata": {
        "id": "BP9ltH6QOrez",
        "outputId": "df9298d1-f413-40f1-de54-a8759524dc79",
        "colab": {
          "base_uri": "https://localhost:8080/",
          "height": 1000
        }
      },
      "source": [
        "# Loading the dataset\n",
        "X, y = datasets.load_digits(return_X_y=True)\n",
        "datasets.load_digits()"
      ],
      "execution_count": 2,
      "outputs": [
        {
          "output_type": "execute_result",
          "data": {
            "text/plain": [
              "{'DESCR': \".. _digits_dataset:\\n\\nOptical recognition of handwritten digits dataset\\n--------------------------------------------------\\n\\n**Data Set Characteristics:**\\n\\n    :Number of Instances: 5620\\n    :Number of Attributes: 64\\n    :Attribute Information: 8x8 image of integer pixels in the range 0..16.\\n    :Missing Attribute Values: None\\n    :Creator: E. Alpaydin (alpaydin '@' boun.edu.tr)\\n    :Date: July; 1998\\n\\nThis is a copy of the test set of the UCI ML hand-written digits datasets\\nhttps://archive.ics.uci.edu/ml/datasets/Optical+Recognition+of+Handwritten+Digits\\n\\nThe data set contains images of hand-written digits: 10 classes where\\neach class refers to a digit.\\n\\nPreprocessing programs made available by NIST were used to extract\\nnormalized bitmaps of handwritten digits from a preprinted form. From a\\ntotal of 43 people, 30 contributed to the training set and different 13\\nto the test set. 32x32 bitmaps are divided into nonoverlapping blocks of\\n4x4 and the number of on pixels are counted in each block. This generates\\nan input matrix of 8x8 where each element is an integer in the range\\n0..16. This reduces dimensionality and gives invariance to small\\ndistortions.\\n\\nFor info on NIST preprocessing routines, see M. D. Garris, J. L. Blue, G.\\nT. Candela, D. L. Dimmick, J. Geist, P. J. Grother, S. A. Janet, and C.\\nL. Wilson, NIST Form-Based Handprint Recognition System, NISTIR 5469,\\n1994.\\n\\n.. topic:: References\\n\\n  - C. Kaynak (1995) Methods of Combining Multiple Classifiers and Their\\n    Applications to Handwritten Digit Recognition, MSc Thesis, Institute of\\n    Graduate Studies in Science and Engineering, Bogazici University.\\n  - E. Alpaydin, C. Kaynak (1998) Cascading Classifiers, Kybernetika.\\n  - Ken Tang and Ponnuthurai N. Suganthan and Xi Yao and A. Kai Qin.\\n    Linear dimensionalityreduction using relevance weighted LDA. School of\\n    Electrical and Electronic Engineering Nanyang Technological University.\\n    2005.\\n  - Claudio Gentile. A New Approximate Maximal Margin Classification\\n    Algorithm. NIPS. 2000.\",\n",
              " 'data': array([[ 0.,  0.,  5., ...,  0.,  0.,  0.],\n",
              "        [ 0.,  0.,  0., ..., 10.,  0.,  0.],\n",
              "        [ 0.,  0.,  0., ..., 16.,  9.,  0.],\n",
              "        ...,\n",
              "        [ 0.,  0.,  1., ...,  6.,  0.,  0.],\n",
              "        [ 0.,  0.,  2., ..., 12.,  0.,  0.],\n",
              "        [ 0.,  0., 10., ..., 12.,  1.,  0.]]),\n",
              " 'images': array([[[ 0.,  0.,  5., ...,  1.,  0.,  0.],\n",
              "         [ 0.,  0., 13., ..., 15.,  5.,  0.],\n",
              "         [ 0.,  3., 15., ..., 11.,  8.,  0.],\n",
              "         ...,\n",
              "         [ 0.,  4., 11., ..., 12.,  7.,  0.],\n",
              "         [ 0.,  2., 14., ..., 12.,  0.,  0.],\n",
              "         [ 0.,  0.,  6., ...,  0.,  0.,  0.]],\n",
              " \n",
              "        [[ 0.,  0.,  0., ...,  5.,  0.,  0.],\n",
              "         [ 0.,  0.,  0., ...,  9.,  0.,  0.],\n",
              "         [ 0.,  0.,  3., ...,  6.,  0.,  0.],\n",
              "         ...,\n",
              "         [ 0.,  0.,  1., ...,  6.,  0.,  0.],\n",
              "         [ 0.,  0.,  1., ...,  6.,  0.,  0.],\n",
              "         [ 0.,  0.,  0., ..., 10.,  0.,  0.]],\n",
              " \n",
              "        [[ 0.,  0.,  0., ..., 12.,  0.,  0.],\n",
              "         [ 0.,  0.,  3., ..., 14.,  0.,  0.],\n",
              "         [ 0.,  0.,  8., ..., 16.,  0.,  0.],\n",
              "         ...,\n",
              "         [ 0.,  9., 16., ...,  0.,  0.,  0.],\n",
              "         [ 0.,  3., 13., ..., 11.,  5.,  0.],\n",
              "         [ 0.,  0.,  0., ..., 16.,  9.,  0.]],\n",
              " \n",
              "        ...,\n",
              " \n",
              "        [[ 0.,  0.,  1., ...,  1.,  0.,  0.],\n",
              "         [ 0.,  0., 13., ...,  2.,  1.,  0.],\n",
              "         [ 0.,  0., 16., ..., 16.,  5.,  0.],\n",
              "         ...,\n",
              "         [ 0.,  0., 16., ..., 15.,  0.,  0.],\n",
              "         [ 0.,  0., 15., ..., 16.,  0.,  0.],\n",
              "         [ 0.,  0.,  2., ...,  6.,  0.,  0.]],\n",
              " \n",
              "        [[ 0.,  0.,  2., ...,  0.,  0.,  0.],\n",
              "         [ 0.,  0., 14., ..., 15.,  1.,  0.],\n",
              "         [ 0.,  4., 16., ..., 16.,  7.,  0.],\n",
              "         ...,\n",
              "         [ 0.,  0.,  0., ..., 16.,  2.,  0.],\n",
              "         [ 0.,  0.,  4., ..., 16.,  2.,  0.],\n",
              "         [ 0.,  0.,  5., ..., 12.,  0.,  0.]],\n",
              " \n",
              "        [[ 0.,  0., 10., ...,  1.,  0.,  0.],\n",
              "         [ 0.,  2., 16., ...,  1.,  0.,  0.],\n",
              "         [ 0.,  0., 15., ..., 15.,  0.,  0.],\n",
              "         ...,\n",
              "         [ 0.,  4., 16., ..., 16.,  6.,  0.],\n",
              "         [ 0.,  8., 16., ..., 16.,  8.,  0.],\n",
              "         [ 0.,  1.,  8., ..., 12.,  1.,  0.]]]),\n",
              " 'target': array([0, 1, 2, ..., 8, 9, 8]),\n",
              " 'target_names': array([0, 1, 2, 3, 4, 5, 6, 7, 8, 9])}"
            ]
          },
          "metadata": {
            "tags": []
          },
          "execution_count": 2
        }
      ]
    },
    {
      "cell_type": "markdown",
      "metadata": {
        "id": "Hoi3d6jiQ-Zy"
      },
      "source": [
        "### Baseline Machine Learning Models: Classifier with default Hyper-parameters"
      ]
    },
    {
      "cell_type": "markdown",
      "metadata": {
        "id": "OPuUTZzaSGrS"
      },
      "source": [
        "### `Random Forest`"
      ]
    },
    {
      "cell_type": "code",
      "metadata": {
        "id": "cWm_OTkCQ9QN",
        "outputId": "f75b381e-4f21-4bc9-e96c-bad553b488e7",
        "colab": {
          "base_uri": "https://localhost:8080/",
          "height": 35
        }
      },
      "source": [
        "# Random Forest (RF) with 3-fold cross validation\n",
        "RF_clf = RandomForestClassifier()\n",
        "RF_clf.fit(X,y)\n",
        "RF_scores = cross_val_score(RF_clf, X, y, cv = 3,scoring = 'accuracy')\n",
        "print(\"Accuracy (RF): \"+ str(RF_scores.mean()))"
      ],
      "execution_count": 3,
      "outputs": [
        {
          "output_type": "stream",
          "text": [
            "Accuracy (RF): 0.9365609348914857\n"
          ],
          "name": "stdout"
        }
      ]
    },
    {
      "cell_type": "markdown",
      "metadata": {
        "id": "JAuXukkhSt1J"
      },
      "source": [
        "### `Support Vector Machine`"
      ]
    },
    {
      "cell_type": "code",
      "metadata": {
        "id": "ffivxZzrSheF",
        "outputId": "50f5b282-01b7-409b-cd28-87fc50c48404",
        "colab": {
          "base_uri": "https://localhost:8080/",
          "height": 35
        }
      },
      "source": [
        "# Support Vector Machine (SVM)\n",
        "SVM_clf = SVC(gamma='scale')\n",
        "SVM_clf.fit(X,y)\n",
        "SVM_scores = cross_val_score(SVM_clf, X, y, cv = 3,scoring = 'accuracy')\n",
        "print(\"Accuracy (SVM): \"+ str(SVM_scores.mean()))"
      ],
      "execution_count": 4,
      "outputs": [
        {
          "output_type": "stream",
          "text": [
            "Accuracy (SVM): 0.9699499165275459\n"
          ],
          "name": "stdout"
        }
      ]
    },
    {
      "cell_type": "markdown",
      "metadata": {
        "id": "4puF6Cu4TOOz"
      },
      "source": [
        "### `K-Nearest Neighbor`"
      ]
    },
    {
      "cell_type": "code",
      "metadata": {
        "id": "MfNBrtXyTMLP",
        "outputId": "a450c571-872b-47c8-d3d3-7d02c1f48547",
        "colab": {
          "base_uri": "https://localhost:8080/",
          "height": 35
        }
      },
      "source": [
        "# K-Nearest Neighbor (KNN)\n",
        "KNN_clf = KNeighborsClassifier()\n",
        "KNN_clf.fit(X,y)\n",
        "KNN_scores = cross_val_score(KNN_clf, X, y, cv = 3,scoring='accuracy')\n",
        "print(\"Accuracy (KNN):\"+ str(KNN_scores.mean()))"
      ],
      "execution_count": 5,
      "outputs": [
        {
          "output_type": "stream",
          "text": [
            "Accuracy (KNN):0.9627156371730662\n"
          ],
          "name": "stdout"
        }
      ]
    },
    {
      "cell_type": "markdown",
      "metadata": {
        "id": "xe6PMAKOTg_a"
      },
      "source": [
        "### `Artificial Neural Network`"
      ]
    },
    {
      "cell_type": "code",
      "metadata": {
        "id": "pbBV0y_4ThTB",
        "outputId": "f9d88f2c-a82c-468d-ec57-b8c12f479607",
        "colab": {
          "base_uri": "https://localhost:8080/",
          "height": 107
        }
      },
      "source": [
        "# Artificial Neural Network (ANN)\n",
        "from keras.models import Sequential, Model\n",
        "from keras.layers import Dense, Input\n",
        "from keras.wrappers.scikit_learn import KerasClassifier\n",
        "from keras.callbacks import EarlyStopping\n",
        "\n",
        "def ann_model(optimizer = 'sgd',neurons = 32,batch_size = 32,epochs = 50,activation = 'relu',patience = 5,loss = 'categorical_crossentropy'):\n",
        "    model = Sequential()\n",
        "    model.add(Dense(neurons, input_shape = (X.shape[1],), activation = activation))\n",
        "    model.add(Dense(neurons, activation = activation))\n",
        "    model.add(Dense(10,activation='softmax'))\n",
        "    model.compile(optimizer = optimizer, loss = loss)\n",
        "    early_stopping = EarlyStopping(monitor = \"loss\", patience = patience)\n",
        "    history = model.fit(X, pd.get_dummies(y).values, batch_size = batch_size, epochs=epochs, callbacks = [early_stopping], verbose=0) \n",
        "    return model\n",
        "\n",
        "ANN_clf = KerasClassifier(build_fn = ann_model, verbose = 0)\n",
        "ANN_scores = cross_val_score(ANN_clf, X, y, cv = 3,scoring = 'accuracy')\n",
        "print(\"Accuracy (ANN):\"+ str(ANN_scores.mean()))"
      ],
      "execution_count": 6,
      "outputs": [
        {
          "output_type": "stream",
          "text": [
            "WARNING:tensorflow:From /usr/local/lib/python3.6/dist-packages/tensorflow/python/keras/wrappers/scikit_learn.py:241: Sequential.predict_classes (from tensorflow.python.keras.engine.sequential) is deprecated and will be removed after 2021-01-01.\n",
            "Instructions for updating:\n",
            "Please use instead:* `np.argmax(model.predict(x), axis=-1)`,   if your model does multi-class classification   (e.g. if it uses a `softmax` last-layer activation).* `(model.predict(x) > 0.5).astype(\"int32\")`,   if your model does binary classification   (e.g. if it uses a `sigmoid` last-layer activation).\n",
            "Accuracy (ANN):0.9988870339454646\n"
          ],
          "name": "stdout"
        }
      ]
    },
    {
      "cell_type": "markdown",
      "metadata": {
        "id": "oJYvlbhAWyqe"
      },
      "source": [
        "### Hyper-parameter Tuning Algorithms"
      ]
    },
    {
      "cell_type": "markdown",
      "metadata": {
        "id": "HLXOfmReW8eX"
      },
      "source": [
        "### `1] Grid Search`"
      ]
    },
    {
      "cell_type": "code",
      "metadata": {
        "id": "5STpn9RVUthB"
      },
      "source": [
        "from sklearn.model_selection import GridSearchCV"
      ],
      "execution_count": 7,
      "outputs": []
    },
    {
      "cell_type": "markdown",
      "metadata": {
        "id": "UrDMU5hkXGd1"
      },
      "source": [
        "### `Random Forest`"
      ]
    },
    {
      "cell_type": "code",
      "metadata": {
        "id": "JYo5ZyHBXEz1",
        "outputId": "70490d9b-3c24-401c-9012-102ddf744bd6",
        "colab": {
          "base_uri": "https://localhost:8080/",
          "height": 52
        }
      },
      "source": [
        "# Random Forest (RF)\n",
        "RF_params = {\n",
        "    'n_estimators': [10, 20, 30],\n",
        "    'max_depth': [15,20,25,30,50],\n",
        "    \"criterion\":['gini','entropy']\n",
        "}\n",
        "RF_clf = RandomForestClassifier(random_state = 1)\n",
        "RF_grid = GridSearchCV(RF_clf, RF_params, cv = 3, scoring = 'accuracy')\n",
        "RF_grid.fit(X, y)\n",
        "print(RF_grid.best_params_)\n",
        "print(\"Accuracy (RF): \"+ str(RF_grid.best_score_))"
      ],
      "execution_count": 8,
      "outputs": [
        {
          "output_type": "stream",
          "text": [
            "{'criterion': 'entropy', 'max_depth': 15, 'n_estimators': 30}\n",
            "Accuracy (RF): 0.9343350027824151\n"
          ],
          "name": "stdout"
        }
      ]
    },
    {
      "cell_type": "markdown",
      "metadata": {
        "id": "LcSFQqjqXrgC"
      },
      "source": [
        "### `Support Vector Machine`"
      ]
    },
    {
      "cell_type": "code",
      "metadata": {
        "id": "rW1YKEVsX3L0",
        "outputId": "86ec8362-12eb-41d6-da9f-973317fed8c9",
        "colab": {
          "base_uri": "https://localhost:8080/",
          "height": 52
        }
      },
      "source": [
        "# Support Vector Machine (SVM)\n",
        "SVM_params = {\n",
        "    'C': [1, 10, 20, 50, 100],\n",
        "    \"kernel\":['linear','poly','rbf','sigmoid']\n",
        "}\n",
        "SVM_clf = SVC(gamma='scale')\n",
        "SVM_grid = GridSearchCV(SVM_clf, SVM_params, cv = 3, scoring = 'accuracy')\n",
        "SVM_grid.fit(X, y)\n",
        "print(SVM_grid.best_params_)\n",
        "print(\"Accuracy:\"+ str(SVM_grid.best_score_))"
      ],
      "execution_count": 9,
      "outputs": [
        {
          "output_type": "stream",
          "text": [
            "{'C': 10, 'kernel': 'rbf'}\n",
            "Accuracy:0.9738452977184195\n"
          ],
          "name": "stdout"
        }
      ]
    },
    {
      "cell_type": "markdown",
      "metadata": {
        "id": "sqsHCg2OYozB"
      },
      "source": [
        "### `K-Nearest Neighbor`"
      ]
    },
    {
      "cell_type": "code",
      "metadata": {
        "id": "yV_k491hYpSp",
        "outputId": "2051ce60-d5ae-49e7-ad46-cde3271e8f74",
        "colab": {
          "base_uri": "https://localhost:8080/",
          "height": 52
        }
      },
      "source": [
        "#K-Nearest Neighbor (KNN)\n",
        "KNN_params = { 'n_neighbors': [2, 4, 6, 8] }\n",
        "KNN_clf = KNeighborsClassifier()\n",
        "KNN_grid = GridSearchCV(KNN_clf, KNN_params, cv = 3, scoring = 'accuracy')\n",
        "KNN_grid.fit(X, y)\n",
        "print(KNN_grid.best_params_)\n",
        "print(\"Accuracy:\"+ str(KNN_grid.best_score_))"
      ],
      "execution_count": 10,
      "outputs": [
        {
          "output_type": "stream",
          "text": [
            "{'n_neighbors': 4}\n",
            "Accuracy:0.9638286032276016\n"
          ],
          "name": "stdout"
        }
      ]
    },
    {
      "cell_type": "markdown",
      "metadata": {
        "id": "9IZ-vY_BYb34"
      },
      "source": [
        "### `Artificial Neural Network`"
      ]
    },
    {
      "cell_type": "code",
      "metadata": {
        "id": "X5fgs0l9X64t",
        "outputId": "25f96e5c-4770-4cf6-f679-c8c5cdcd2862",
        "colab": {
          "base_uri": "https://localhost:8080/",
          "height": 52
        }
      },
      "source": [
        "# Artificial Neural Network (ANN)\n",
        "ANN_params = {\n",
        "    'optimizer': ['adam','sgd'],\n",
        "    'activation': ['relu','tanh'],\n",
        "    'batch_size': [16,32],\n",
        "    'neurons':[16,32],\n",
        "    'epochs':[30,50],\n",
        "    'patience':[3,5]\n",
        "}\n",
        "ANN_clf = KerasClassifier(build_fn = ann_model, verbose = 0)\n",
        "ANN_grid = GridSearchCV(ANN_clf, ANN_params, cv = 3,scoring = 'accuracy')\n",
        "ANN_grid.fit(X, y)\n",
        "print(ANN_grid.best_params_)\n",
        "print(\"Accuracy (ANN): \"+ str(ANN_grid.best_score_))"
      ],
      "execution_count": 11,
      "outputs": [
        {
          "output_type": "stream",
          "text": [
            "{'activation': 'relu', 'batch_size': 16, 'epochs': 50, 'neurons': 32, 'optimizer': 'adam', 'patience': 5}\n",
            "Accuracy (ANN): 0.9994435169727324\n"
          ],
          "name": "stdout"
        }
      ]
    },
    {
      "cell_type": "markdown",
      "metadata": {
        "id": "KFj1Lki6Zv27"
      },
      "source": [
        "### `2] Random Search`"
      ]
    },
    {
      "cell_type": "code",
      "metadata": {
        "id": "_jHS1Ms9Z0qz"
      },
      "source": [
        "from sklearn.model_selection import RandomizedSearchCV\n",
        "from random import randrange as sp_randrange\n",
        "from scipy.stats import randint as sp_randint"
      ],
      "execution_count": 12,
      "outputs": []
    },
    {
      "cell_type": "markdown",
      "metadata": {
        "id": "u8-dmwM_aIhC"
      },
      "source": [
        "### `Random Forest`"
      ]
    },
    {
      "cell_type": "code",
      "metadata": {
        "id": "fI7evdWgaMeW",
        "outputId": "976894e5-cedc-452b-92b4-d2cc823d7ae3",
        "colab": {
          "base_uri": "https://localhost:8080/",
          "height": 52
        }
      },
      "source": [
        "# Random Forest (RF)\n",
        "RF_params = {\n",
        "    'n_estimators': sp_randint(10,100),\n",
        "    'max_depth': sp_randint(5,50),\n",
        "    \"criterion\":['gini','entropy']\n",
        "}\n",
        "RF_clf = RandomForestClassifier(random_state = 1)\n",
        "RF_Random = RandomizedSearchCV(RF_clf, param_distributions = RF_params, n_iter = 20,cv = 3,scoring = 'accuracy')\n",
        "RF_Random.fit(X, y)\n",
        "print(RF_Random.best_params_)\n",
        "print(\"Accuracy (RF):\"+ str(RF_Random.best_score_))"
      ],
      "execution_count": 13,
      "outputs": [
        {
          "output_type": "stream",
          "text": [
            "{'criterion': 'gini', 'max_depth': 10, 'n_estimators': 86}\n",
            "Accuracy (RF):0.9476905954368391\n"
          ],
          "name": "stdout"
        }
      ]
    },
    {
      "cell_type": "markdown",
      "metadata": {
        "id": "-msyDdhXbAGw"
      },
      "source": [
        "### `Support Vector Machine`"
      ]
    },
    {
      "cell_type": "code",
      "metadata": {
        "id": "YK4srCGxbEBz",
        "outputId": "a5b7804f-d4fa-4cd3-d063-ebb847d99dfb",
        "colab": {
          "base_uri": "https://localhost:8080/",
          "height": 52
        }
      },
      "source": [
        "# Support Vector Machine(SVM)\n",
        "SVM_params = {\n",
        "    'C': stats.uniform(1,50),\n",
        "    \"kernel\":['poly','rbf']\n",
        "}\n",
        "SVM_clf = SVC(gamma='scale')\n",
        "SVM_Random = RandomizedSearchCV(SVM_clf, param_distributions = SVM_params, n_iter = 20,cv = 3,scoring = 'accuracy')\n",
        "SVM_Random.fit(X, y)\n",
        "print(SVM_Random.best_params_)\n",
        "print(\"Accuracy (SVM): \"+ str(SVM_Random.best_score_))"
      ],
      "execution_count": 14,
      "outputs": [
        {
          "output_type": "stream",
          "text": [
            "{'C': 33.97410441400006, 'kernel': 'rbf'}\n",
            "Accuracy (SVM): 0.9738452977184195\n"
          ],
          "name": "stdout"
        }
      ]
    },
    {
      "cell_type": "markdown",
      "metadata": {
        "id": "lRJG3zDYbnPS"
      },
      "source": [
        "### `K-Nearest Neighbor`"
      ]
    },
    {
      "cell_type": "code",
      "metadata": {
        "id": "S270PV5lbscJ",
        "outputId": "37d3a9d7-2ccf-4b6a-db6c-4c32bb1e4d01",
        "colab": {
          "base_uri": "https://localhost:8080/",
          "height": 52
        }
      },
      "source": [
        "# K-Nearest Neighbor (KNN)\n",
        "KNN_params = {'n_neighbors': range(1,20)}\n",
        "KNN_clf = KNeighborsClassifier()\n",
        "KNN_Random = RandomizedSearchCV(KNN_clf, param_distributions = KNN_params,n_iter = 10,cv = 3,scoring = 'accuracy')\n",
        "KNN_Random.fit(X, y)\n",
        "print(KNN_Random.best_params_)\n",
        "print(\"Accuracy (KNN): \"+ str(KNN_Random.best_score_))"
      ],
      "execution_count": 15,
      "outputs": [
        {
          "output_type": "stream",
          "text": [
            "{'n_neighbors': 3}\n",
            "Accuracy (KNN): 0.9682804674457429\n"
          ],
          "name": "stdout"
        }
      ]
    },
    {
      "cell_type": "markdown",
      "metadata": {
        "id": "FjIKRjIycjNR"
      },
      "source": [
        "### `Artificial Neural Network` "
      ]
    },
    {
      "cell_type": "code",
      "metadata": {
        "id": "jsWSjOsxc6m4",
        "outputId": "c04fe6d5-fd73-49a0-a4ac-371bf90ef93a",
        "colab": {
          "base_uri": "https://localhost:8080/",
          "height": 52
        }
      },
      "source": [
        "# Artificial Neural Network (ANN)\n",
        "ANN_params = {\n",
        "    'optimizer': ['adam','sgd'],\n",
        "    'activation': ['relu','tanh'],\n",
        "    'batch_size': [16,32],\n",
        "    'neurons':sp_randint(10,100),\n",
        "    'epochs':[30,50],\n",
        "    'patience':sp_randint(5,20)\n",
        "}\n",
        "ANN_clf = KerasClassifier(build_fn = ann_model, verbose = 0)\n",
        "ANN_Random = RandomizedSearchCV(ANN_clf, param_distributions = ANN_params, n_iter = 10,cv = 3,scoring = 'accuracy')\n",
        "ANN_Random.fit(X, y)\n",
        "print(ANN_Random.best_params_)\n",
        "print(\"Accuracy (ANN): \"+ str(ANN_Random.best_score_))"
      ],
      "execution_count": 16,
      "outputs": [
        {
          "output_type": "stream",
          "text": [
            "{'activation': 'relu', 'batch_size': 16, 'epochs': 30, 'neurons': 89, 'optimizer': 'adam', 'patience': 5}\n",
            "Accuracy (ANN): 1.0\n"
          ],
          "name": "stdout"
        }
      ]
    },
    {
      "cell_type": "markdown",
      "metadata": {
        "id": "R7mHFj7Bdy0Q"
      },
      "source": [
        "### `3] Bayesian Optimization with Gaussian Process (BO-GP)`"
      ]
    },
    {
      "cell_type": "code",
      "metadata": {
        "id": "1KqoM5Epd88q"
      },
      "source": [
        "from skopt import Optimizer\n",
        "from skopt import BayesSearchCV \n",
        "from skopt.space import Real, Categorical, Integer"
      ],
      "execution_count": 17,
      "outputs": []
    },
    {
      "cell_type": "markdown",
      "metadata": {
        "id": "7q-OomFHeLYf"
      },
      "source": [
        "### `Random Factor`"
      ]
    },
    {
      "cell_type": "code",
      "metadata": {
        "id": "mI3jODLeeKzA",
        "outputId": "7a12bcb8-7ffd-4cf4-904d-7915ed149316",
        "colab": {
          "base_uri": "https://localhost:8080/",
          "height": 52
        }
      },
      "source": [
        "#Random Forest (RF)\n",
        "RF_params = {\n",
        "    'n_estimators': Integer(10,100),\n",
        "    'max_depth': Integer(5,50),\n",
        "    \"criterion\":['gini','entropy']\n",
        "}\n",
        "RF_clf = RandomForestClassifier(random_state = 1)\n",
        "RF_Bayes = BayesSearchCV(RF_clf, RF_params,cv = 3,n_iter = 20, n_jobs = -1,scoring = 'accuracy')\n",
        "RF_Bayes.fit(X, y)\n",
        "print(RF_Bayes.best_params_)\n",
        "print(\"Accuracy (RF): \"+ str(RF_Bayes.best_score_))"
      ],
      "execution_count": 18,
      "outputs": [
        {
          "output_type": "stream",
          "text": [
            "OrderedDict([('criterion', 'gini'), ('max_depth', 29), ('n_estimators', 81)])\n",
            "Accuracy (RF): 0.9449081803005008\n"
          ],
          "name": "stdout"
        }
      ]
    },
    {
      "cell_type": "markdown",
      "metadata": {
        "id": "azn_u3KteuLi"
      },
      "source": [
        "### `Support Vector Machine`"
      ]
    },
    {
      "cell_type": "code",
      "metadata": {
        "id": "RMW8DBR4extE",
        "outputId": "56071176-f4a2-45a2-f443-16277c93e776",
        "colab": {
          "base_uri": "https://localhost:8080/",
          "height": 121
        }
      },
      "source": [
        "# Support Vector Machine (SVM)\n",
        "SVM_params = {\n",
        "    'C': Real(1,50),\n",
        "    \"kernel\":['poly','rbf']\n",
        "}\n",
        "SVM_clf = SVC(gamma = 'scale')\n",
        "SVM_Bayes = BayesSearchCV(SVM_clf, SVM_params,cv = 3,n_iter = 20, n_jobs = -1,scoring = 'accuracy')\n",
        "SVM_Bayes.fit(X, y)\n",
        "print(SVM_Bayes.best_params_)\n",
        "print(\"Accuracy (SVM): \"+ str(SVM_Bayes.best_score_))"
      ],
      "execution_count": 19,
      "outputs": [
        {
          "output_type": "stream",
          "text": [
            "/usr/local/lib/python3.6/dist-packages/skopt/optimizer/optimizer.py:449: UserWarning: The objective has been evaluated at this point before.\n",
            "  warnings.warn(\"The objective has been evaluated \"\n",
            "/usr/local/lib/python3.6/dist-packages/skopt/optimizer/optimizer.py:449: UserWarning: The objective has been evaluated at this point before.\n",
            "  warnings.warn(\"The objective has been evaluated \"\n"
          ],
          "name": "stderr"
        },
        {
          "output_type": "stream",
          "text": [
            "OrderedDict([('C', 45.4820218909658), ('kernel', 'rbf')])\n",
            "Accuracy (SVM): 0.9738452977184195\n"
          ],
          "name": "stdout"
        }
      ]
    },
    {
      "cell_type": "markdown",
      "metadata": {
        "id": "GtY8u3bmfj2a"
      },
      "source": [
        "### `K-Nearest Neighbor`"
      ]
    },
    {
      "cell_type": "code",
      "metadata": {
        "id": "TzUICd-MfkGa",
        "outputId": "6b6269cd-9b7e-4ba3-cdce-676e31053802",
        "colab": {
          "base_uri": "https://localhost:8080/",
          "height": 52
        }
      },
      "source": [
        "# K-Nearest Neighbor (KNN)\n",
        "KNN_params = {'n_neighbors': Integer(1,20),}\n",
        "KNN_clf = KNeighborsClassifier()\n",
        "KNN_Bayes = BayesSearchCV(KNN_clf, KNN_params,cv = 3,n_iter = 10, n_jobs = -1,scoring = 'accuracy')\n",
        "KNN_Bayes.fit(X, y)\n",
        "print(KNN_Bayes.best_params_)\n",
        "print(\"Accuracy (KNN): \"+ str(KNN_Bayes.best_score_))"
      ],
      "execution_count": 20,
      "outputs": [
        {
          "output_type": "stream",
          "text": [
            "OrderedDict([('n_neighbors', 4)])\n",
            "Accuracy (KNN): 0.9638286032276016\n"
          ],
          "name": "stdout"
        }
      ]
    },
    {
      "cell_type": "markdown",
      "metadata": {
        "id": "BMDvRiaofWNM"
      },
      "source": [
        "### `Artificial Neural Network`"
      ]
    },
    {
      "cell_type": "code",
      "metadata": {
        "id": "X4JReM9Xfbf4",
        "outputId": "353d1537-f188-4a79-93cc-3549b853f2d3",
        "colab": {
          "base_uri": "https://localhost:8080/",
          "height": 52
        }
      },
      "source": [
        "# Artificial Neural Network (ANN)\n",
        "ANN_params = {\n",
        "    'optimizer': ['adam','sgd'],\n",
        "    'activation': ['relu','tanh'],\n",
        "    'batch_size': [16,32],\n",
        "    'neurons':Integer(10,100),\n",
        "    'epochs':[30,50],\n",
        "    'patience':Integer(5,20)\n",
        "}\n",
        "ANN_clf = KerasClassifier(build_fn = ann_model, verbose = 0)\n",
        "ANN_Bayes = BayesSearchCV(ANN_clf, ANN_params,cv = 3,n_iter = 10, scoring = 'accuracy')\n",
        "ANN_Bayes.fit(X, y)\n",
        "print(ANN_Bayes.best_params_)\n",
        "print(\"Accuracy (ANN): \"+ str(ANN_Bayes.best_score_))"
      ],
      "execution_count": 21,
      "outputs": [
        {
          "output_type": "stream",
          "text": [
            "OrderedDict([('activation', 'relu'), ('batch_size', 22), ('epochs', 35), ('neurons', 83), ('optimizer', 'sgd'), ('patience', 13)])\n",
            "Accuracy (ANN): 0.9994435169727324\n"
          ],
          "name": "stdout"
        }
      ]
    },
    {
      "cell_type": "markdown",
      "metadata": {
        "id": "iyezd90BguZS"
      },
      "source": [
        "### `4] Bayesian Optimization with Tree-structured Parzen Estimator (BO-TPE)`"
      ]
    },
    {
      "cell_type": "code",
      "metadata": {
        "id": "pDXEAqAyffVW"
      },
      "source": [
        "from sklearn.model_selection import StratifiedKFold\n",
        "from hyperopt import hp, fmin, tpe, STATUS_OK, Trials"
      ],
      "execution_count": 22,
      "outputs": []
    },
    {
      "cell_type": "markdown",
      "metadata": {
        "id": "OxPRFVoUgtL6"
      },
      "source": [
        "### `Random Forest`"
      ]
    },
    {
      "cell_type": "code",
      "metadata": {
        "id": "7Wj0Mc0GhMY_",
        "outputId": "9511d80e-ec95-48a2-ede0-96cf7960b51f",
        "colab": {
          "base_uri": "https://localhost:8080/",
          "height": 52
        }
      },
      "source": [
        "# Random Forest (RF)\n",
        "def RF_fun(params):\n",
        "    params = {\n",
        "        'n_estimators': int(params['n_estimators']), \n",
        "        'max_features': int(params['max_features']),\n",
        "        \"criterion\":str(params['criterion'])\n",
        "    }\n",
        "    RF_clf = RandomForestClassifier(**params)\n",
        "    RF_score = cross_val_score(RF_clf, X, y, cv = StratifiedKFold(n_splits = 3),scoring = 'accuracy').mean()\n",
        "    return {'loss':-RF_score, 'status': STATUS_OK }\n",
        "\n",
        "RF_space = {\n",
        "    'n_estimators': hp.quniform('n_estimators', 10, 100, 1),\n",
        "    \"max_features\":hp.quniform('max_features', 1, 32, 1),\n",
        "    \"criterion\":hp.choice('criterion',['gini','entropy'])\n",
        "}\n",
        "\n",
        "RF_best = fmin(fn = RF_fun, space = RF_space, algo = tpe.suggest, max_evals = 20)\n",
        "print(\"Estimated optimum (RF): \" +str(RF_best))"
      ],
      "execution_count": 23,
      "outputs": [
        {
          "output_type": "stream",
          "text": [
            "100%|██████████| 20/20 [00:12<00:00,  1.62it/s, best loss: -0.9410127991096271]\n",
            "Estimated optimum (RF): {'criterion': 1, 'max_features': 4.0, 'n_estimators': 84.0}\n"
          ],
          "name": "stdout"
        }
      ]
    },
    {
      "cell_type": "markdown",
      "metadata": {
        "id": "7Ss291wbiP3S"
      },
      "source": [
        "### `Support Vector Machine`"
      ]
    },
    {
      "cell_type": "code",
      "metadata": {
        "id": "kbGb-FSWiTVD",
        "outputId": "d50a5180-9116-499f-9760-3078eea9062f",
        "colab": {
          "base_uri": "https://localhost:8080/",
          "height": 52
        }
      },
      "source": [
        "# Support Vector Machine (SVM)\n",
        "def SVM_fun(params):\n",
        "    params = {\n",
        "        'C': abs(float(params['C'])), \n",
        "        \"kernel\":str(params['kernel'])\n",
        "    }\n",
        "    SVM_clf = SVC(gamma ='scale', **params)\n",
        "    SVM_score = cross_val_score(SVM_clf, X, y, cv = StratifiedKFold(n_splits = 3), scoring ='accuracy').mean()\n",
        "    return {'loss':-SVM_score, 'status': STATUS_OK }\n",
        "SVM_space = {\n",
        "    'C': hp.normal('C', 0, 50),\n",
        "    \"kernel\":hp.choice('kernel',['poly','rbf'])\n",
        "}\n",
        "SVM_best = fmin(fn = SVM_fun, space = SVM_space, algo = tpe.suggest, max_evals = 20)\n",
        "print(\"Estimated optimum (SVM): \"+str(SVM_best))"
      ],
      "execution_count": 24,
      "outputs": [
        {
          "output_type": "stream",
          "text": [
            "100%|██████████| 20/20 [00:05<00:00,  3.91it/s, best loss: -0.9749582637729549]\n",
            "Estimated optimum (SVM): {'C': 2.5830277799962245, 'kernel': 1}\n"
          ],
          "name": "stdout"
        }
      ]
    },
    {
      "cell_type": "markdown",
      "metadata": {
        "id": "_w3skdNyjXel"
      },
      "source": [
        "### `K-Nearest Neighbor`"
      ]
    },
    {
      "cell_type": "code",
      "metadata": {
        "id": "Y_h0VJmGj0vv",
        "outputId": "ab1c85d5-8d7d-49b3-ef06-a99c1f65e837",
        "colab": {
          "base_uri": "https://localhost:8080/",
          "height": 52
        }
      },
      "source": [
        "# K-Nearest Neighbor (KNN)\n",
        "def KNN_fun(params):\n",
        "    params = {'n_neighbors': abs(int(params['n_neighbors'])) }\n",
        "    KNN_clf = KNeighborsClassifier(**params)\n",
        "    KNN_score = cross_val_score(KNN_clf, X, y, cv = StratifiedKFold(n_splits=3), scoring='accuracy').mean()\n",
        "    return {'loss':-KNN_score, 'status': STATUS_OK }\n",
        "\n",
        "KNN_space = {'n_neighbors': hp.quniform('n_neighbors', 1, 20, 1)}\n",
        "\n",
        "KNN_best = fmin(fn = KNN_fun, space = KNN_space, algo = tpe.suggest, max_evals = 10)\n",
        "print(\"Estimated optimum (KNN): \"+str(KNN_best))"
      ],
      "execution_count": 25,
      "outputs": [
        {
          "output_type": "stream",
          "text": [
            "100%|██████████| 10/10 [00:03<00:00,  2.87it/s, best loss: -0.9638286032276016]\n",
            "Estimated optimum (KNN): {'n_neighbors': 4.0}\n"
          ],
          "name": "stdout"
        }
      ]
    },
    {
      "cell_type": "markdown",
      "metadata": {
        "id": "D9BQGnRWlBnQ"
      },
      "source": [
        "### `Artificial Neural Network`"
      ]
    },
    {
      "cell_type": "code",
      "metadata": {
        "id": "XMNPjNBGlF-V",
        "outputId": "ce62b5bb-47b3-40d0-83ff-4eadf0eb2481",
        "colab": {
          "base_uri": "https://localhost:8080/",
          "height": 52
        }
      },
      "source": [
        "# Artificial Neural Network (ANN)\n",
        "def ANN_fun(params):\n",
        "    params = {\n",
        "        \"optimizer\":str(params['optimizer']),\n",
        "        \"activation\":str(params['activation']),\n",
        "        'batch_size': abs(int(params['batch_size'])),\n",
        "        'neurons': abs(int(params['neurons'])),\n",
        "        'epochs': abs(int(params['epochs'])),\n",
        "        'patience': abs(int(params['patience']))\n",
        "    }\n",
        "    ANN_clf = KerasClassifier(build_fn = ann_model,**params, verbose = 0)\n",
        "    ANN_score = -np.mean(cross_val_score(ANN_clf, X, y, cv=3, scoring = \"accuracy\"))\n",
        "    return {'loss':ANN_score, 'status': STATUS_OK }\n",
        "\n",
        "ANN_space = {\n",
        "    \"optimizer\":hp.choice('optimizer',['adam','rmsprop','sgd']),\n",
        "    \"activation\":hp.choice('activation',['relu','tanh']),\n",
        "    'batch_size': hp.quniform('batch_size', 16, 32, 16),\n",
        "    'neurons': hp.quniform('neurons', 10, 100, 10),\n",
        "    'epochs': hp.quniform('epochs', 30, 50, 10),\n",
        "    'patience': hp.quniform('patience', 5, 20, 5),\n",
        "}\n",
        "\n",
        "ANN_best = fmin(fn = ANN_fun, space = ANN_space, algo = tpe.suggest, max_evals = 10)\n",
        "print(\"Estimated optimum (ANN): \"+str(ANN_best))"
      ],
      "execution_count": 26,
      "outputs": [
        {
          "output_type": "stream",
          "text": [
            "100%|██████████| 10/10 [03:07<00:00, 18.70s/it, best loss: -1.0]\n",
            "Estimated optimum (ANN): {'activation': 0, 'batch_size': 16.0, 'epochs': 50.0, 'neurons': 80.0, 'optimizer': 0, 'patience': 10.0}\n"
          ],
          "name": "stdout"
        }
      ]
    },
    {
      "cell_type": "markdown",
      "metadata": {
        "id": "x3K45uXSmntv"
      },
      "source": [
        "---"
      ]
    }
  ]
}